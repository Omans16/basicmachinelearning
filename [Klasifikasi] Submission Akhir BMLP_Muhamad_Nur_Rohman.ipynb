{
 "cells": [
  {
   "cell_type": "markdown",
   "metadata": {
    "id": "fKADPWcFKlj3"
   },
   "source": [
    "# **1. Import Library**"
   ]
  },
  {
   "cell_type": "markdown",
   "metadata": {
    "id": "LgA3ERnVn84N"
   },
   "source": [
    "Pada tahap ini, Anda perlu mengimpor beberapa pustaka (library) Python yang dibutuhkan untuk analisis data dan pembangunan model machine learning."
   ]
  },
  {
   "cell_type": "code",
   "execution_count": 1,
   "metadata": {
    "id": "BlmvjLY9M4Yj"
   },
   "outputs": [],
   "source": [
    "import pandas as pd\n",
    "import numpy as np\n",
    "import matplotlib.pyplot as plt\n",
    "import seaborn as sns\n",
    "from sklearn.model_selection import train_test_split\n",
    "from sklearn.tree import DecisionTreeClassifier\n",
    "from sklearn.ensemble import RandomForestClassifier\n",
    "from sklearn.preprocessing import LabelEncoder\n",
    "from sklearn.metrics import confusion_matrix, accuracy_score, precision_score, recall_score, f1_score\n",
    "from sklearn.metrics import classification_report\n",
    "from sklearn.model_selection import learning_curve\n",
    "from skopt import BayesSearchCV\n",
    "from imblearn.over_sampling import SMOTE\n",
    "from sklearn.model_selection import GridSearchCV"
   ]
  },
  {
   "cell_type": "markdown",
   "metadata": {
    "id": "f3YIEnAFKrKL"
   },
   "source": [
    "# **2. Memuat Dataset dari Hasil Clustering**"
   ]
  },
  {
   "cell_type": "code",
   "execution_count": 2,
   "metadata": {
    "id": "GHCGNTyrM5fS"
   },
   "outputs": [
    {
     "data": {
      "text/html": [
       "<div>\n",
       "<style scoped>\n",
       "    .dataframe tbody tr th:only-of-type {\n",
       "        vertical-align: middle;\n",
       "    }\n",
       "\n",
       "    .dataframe tbody tr th {\n",
       "        vertical-align: top;\n",
       "    }\n",
       "\n",
       "    .dataframe thead th {\n",
       "        text-align: right;\n",
       "    }\n",
       "</style>\n",
       "<table border=\"1\" class=\"dataframe\">\n",
       "  <thead>\n",
       "    <tr style=\"text-align: right;\">\n",
       "      <th></th>\n",
       "      <th>year</th>\n",
       "      <th>selling_price</th>\n",
       "      <th>km_driven</th>\n",
       "      <th>fuel</th>\n",
       "      <th>seller_type</th>\n",
       "      <th>transmission</th>\n",
       "      <th>owner</th>\n",
       "      <th>mileage</th>\n",
       "      <th>engine</th>\n",
       "      <th>max_power</th>\n",
       "      <th>owner_category</th>\n",
       "      <th>price_category</th>\n",
       "      <th>Cluster</th>\n",
       "    </tr>\n",
       "  </thead>\n",
       "  <tbody>\n",
       "    <tr>\n",
       "      <th>0</th>\n",
       "      <td>2014</td>\n",
       "      <td>450000</td>\n",
       "      <td>1.169678e+21</td>\n",
       "      <td>1</td>\n",
       "      <td>Individual</td>\n",
       "      <td>1.74197</td>\n",
       "      <td>First Owner</td>\n",
       "      <td>18924.239442</td>\n",
       "      <td>8.830437e+11</td>\n",
       "      <td>3.026961e+07</td>\n",
       "      <td>1</td>\n",
       "      <td>1</td>\n",
       "      <td>4</td>\n",
       "    </tr>\n",
       "    <tr>\n",
       "      <th>1</th>\n",
       "      <td>2014</td>\n",
       "      <td>370000</td>\n",
       "      <td>9.646843e+20</td>\n",
       "      <td>1</td>\n",
       "      <td>Individual</td>\n",
       "      <td>1.74197</td>\n",
       "      <td>Second Owner</td>\n",
       "      <td>17413.152250</td>\n",
       "      <td>1.059521e+12</td>\n",
       "      <td>4.190717e+07</td>\n",
       "      <td>2</td>\n",
       "      <td>1</td>\n",
       "      <td>9</td>\n",
       "    </tr>\n",
       "    <tr>\n",
       "      <th>2</th>\n",
       "      <td>2006</td>\n",
       "      <td>158000</td>\n",
       "      <td>1.125463e+21</td>\n",
       "      <td>2</td>\n",
       "      <td>Individual</td>\n",
       "      <td>1.74197</td>\n",
       "      <td>Third Owner</td>\n",
       "      <td>15113.090330</td>\n",
       "      <td>1.058815e+12</td>\n",
       "      <td>3.184652e+07</td>\n",
       "      <td>2</td>\n",
       "      <td>1</td>\n",
       "      <td>2</td>\n",
       "    </tr>\n",
       "    <tr>\n",
       "      <th>3</th>\n",
       "      <td>2010</td>\n",
       "      <td>225000</td>\n",
       "      <td>1.020957e+21</td>\n",
       "      <td>1</td>\n",
       "      <td>Individual</td>\n",
       "      <td>1.74197</td>\n",
       "      <td>First Owner</td>\n",
       "      <td>18656.790381</td>\n",
       "      <td>9.875184e+11</td>\n",
       "      <td>3.657723e+07</td>\n",
       "      <td>1</td>\n",
       "      <td>1</td>\n",
       "      <td>9</td>\n",
       "    </tr>\n",
       "    <tr>\n",
       "      <th>4</th>\n",
       "      <td>2007</td>\n",
       "      <td>130000</td>\n",
       "      <td>9.646843e+20</td>\n",
       "      <td>2</td>\n",
       "      <td>Individual</td>\n",
       "      <td>1.74197</td>\n",
       "      <td>First Owner</td>\n",
       "      <td>14043.294088</td>\n",
       "      <td>9.183392e+11</td>\n",
       "      <td>3.586762e+07</td>\n",
       "      <td>1</td>\n",
       "      <td>1</td>\n",
       "      <td>2</td>\n",
       "    </tr>\n",
       "    <tr>\n",
       "      <th>...</th>\n",
       "      <td>...</td>\n",
       "      <td>...</td>\n",
       "      <td>...</td>\n",
       "      <td>...</td>\n",
       "      <td>...</td>\n",
       "      <td>...</td>\n",
       "      <td>...</td>\n",
       "      <td>...</td>\n",
       "      <td>...</td>\n",
       "      <td>...</td>\n",
       "      <td>...</td>\n",
       "      <td>...</td>\n",
       "      <td>...</td>\n",
       "    </tr>\n",
       "    <tr>\n",
       "      <th>6901</th>\n",
       "      <td>2013</td>\n",
       "      <td>260000</td>\n",
       "      <td>4.019578e+20</td>\n",
       "      <td>2</td>\n",
       "      <td>Individual</td>\n",
       "      <td>1.74197</td>\n",
       "      <td>Second Owner</td>\n",
       "      <td>15915.437511</td>\n",
       "      <td>7.065661e+11</td>\n",
       "      <td>2.754945e+07</td>\n",
       "      <td>2</td>\n",
       "      <td>1</td>\n",
       "      <td>6</td>\n",
       "    </tr>\n",
       "    <tr>\n",
       "      <th>6902</th>\n",
       "      <td>2014</td>\n",
       "      <td>475000</td>\n",
       "      <td>6.431263e+20</td>\n",
       "      <td>1</td>\n",
       "      <td>Individual</td>\n",
       "      <td>1.74197</td>\n",
       "      <td>Second Owner</td>\n",
       "      <td>18349.223962</td>\n",
       "      <td>9.875184e+11</td>\n",
       "      <td>3.607656e+07</td>\n",
       "      <td>2</td>\n",
       "      <td>1</td>\n",
       "      <td>9</td>\n",
       "    </tr>\n",
       "    <tr>\n",
       "      <th>6903</th>\n",
       "      <td>2013</td>\n",
       "      <td>320000</td>\n",
       "      <td>8.842948e+20</td>\n",
       "      <td>2</td>\n",
       "      <td>Individual</td>\n",
       "      <td>1.74197</td>\n",
       "      <td>First Owner</td>\n",
       "      <td>15647.988451</td>\n",
       "      <td>8.470422e+11</td>\n",
       "      <td>3.375851e+07</td>\n",
       "      <td>1</td>\n",
       "      <td>1</td>\n",
       "      <td>6</td>\n",
       "    </tr>\n",
       "    <tr>\n",
       "      <th>6904</th>\n",
       "      <td>2007</td>\n",
       "      <td>135000</td>\n",
       "      <td>9.566454e+20</td>\n",
       "      <td>1</td>\n",
       "      <td>Individual</td>\n",
       "      <td>1.74197</td>\n",
       "      <td>Fourth &amp; Above Owner</td>\n",
       "      <td>14511.329944</td>\n",
       "      <td>1.055992e+12</td>\n",
       "      <td>4.446175e+07</td>\n",
       "      <td>3</td>\n",
       "      <td>1</td>\n",
       "      <td>2</td>\n",
       "    </tr>\n",
       "    <tr>\n",
       "      <th>6905</th>\n",
       "      <td>2009</td>\n",
       "      <td>382000</td>\n",
       "      <td>9.646843e+20</td>\n",
       "      <td>1</td>\n",
       "      <td>Individual</td>\n",
       "      <td>1.74197</td>\n",
       "      <td>First Owner</td>\n",
       "      <td>16182.886572</td>\n",
       "      <td>8.830437e+11</td>\n",
       "      <td>3.023019e+07</td>\n",
       "      <td>1</td>\n",
       "      <td>1</td>\n",
       "      <td>6</td>\n",
       "    </tr>\n",
       "  </tbody>\n",
       "</table>\n",
       "<p>6906 rows × 13 columns</p>\n",
       "</div>"
      ],
      "text/plain": [
       "      year  selling_price     km_driven  fuel seller_type  transmission  \\\n",
       "0     2014         450000  1.169678e+21     1  Individual       1.74197   \n",
       "1     2014         370000  9.646843e+20     1  Individual       1.74197   \n",
       "2     2006         158000  1.125463e+21     2  Individual       1.74197   \n",
       "3     2010         225000  1.020957e+21     1  Individual       1.74197   \n",
       "4     2007         130000  9.646843e+20     2  Individual       1.74197   \n",
       "...    ...            ...           ...   ...         ...           ...   \n",
       "6901  2013         260000  4.019578e+20     2  Individual       1.74197   \n",
       "6902  2014         475000  6.431263e+20     1  Individual       1.74197   \n",
       "6903  2013         320000  8.842948e+20     2  Individual       1.74197   \n",
       "6904  2007         135000  9.566454e+20     1  Individual       1.74197   \n",
       "6905  2009         382000  9.646843e+20     1  Individual       1.74197   \n",
       "\n",
       "                     owner       mileage        engine     max_power  \\\n",
       "0              First Owner  18924.239442  8.830437e+11  3.026961e+07   \n",
       "1             Second Owner  17413.152250  1.059521e+12  4.190717e+07   \n",
       "2              Third Owner  15113.090330  1.058815e+12  3.184652e+07   \n",
       "3              First Owner  18656.790381  9.875184e+11  3.657723e+07   \n",
       "4              First Owner  14043.294088  9.183392e+11  3.586762e+07   \n",
       "...                    ...           ...           ...           ...   \n",
       "6901          Second Owner  15915.437511  7.065661e+11  2.754945e+07   \n",
       "6902          Second Owner  18349.223962  9.875184e+11  3.607656e+07   \n",
       "6903           First Owner  15647.988451  8.470422e+11  3.375851e+07   \n",
       "6904  Fourth & Above Owner  14511.329944  1.055992e+12  4.446175e+07   \n",
       "6905           First Owner  16182.886572  8.830437e+11  3.023019e+07   \n",
       "\n",
       "      owner_category  price_category  Cluster  \n",
       "0                  1               1        4  \n",
       "1                  2               1        9  \n",
       "2                  2               1        2  \n",
       "3                  1               1        9  \n",
       "4                  1               1        2  \n",
       "...              ...             ...      ...  \n",
       "6901               2               1        6  \n",
       "6902               2               1        9  \n",
       "6903               1               1        6  \n",
       "6904               3               1        2  \n",
       "6905               1               1        6  \n",
       "\n",
       "[6906 rows x 13 columns]"
      ]
     },
     "execution_count": 2,
     "metadata": {},
     "output_type": "execute_result"
    }
   ],
   "source": [
    "klasifikasi_df = pd.read_csv(\"Dataset_clustering.csv\")\n",
    "klasifikasi_df"
   ]
  },
  {
   "cell_type": "code",
   "execution_count": 3,
   "metadata": {},
   "outputs": [
    {
     "name": "stdout",
     "output_type": "stream",
     "text": [
      "                Jumlah Data Hilang Persentase Data Hilang\n",
      "year                             0                  0.00%\n",
      "selling_price                    0                  0.00%\n",
      "km_driven                        0                  0.00%\n",
      "fuel                             0                  0.00%\n",
      "seller_type                      0                  0.00%\n",
      "transmission                     0                  0.00%\n",
      "owner                            0                  0.00%\n",
      "mileage                          0                  0.00%\n",
      "engine                           0                  0.00%\n",
      "max_power                        0                  0.00%\n",
      "owner_category                   0                  0.00%\n",
      "price_category                   0                  0.00%\n",
      "Cluster                          0                  0.00%\n"
     ]
    }
   ],
   "source": [
    "total_rows = klasifikasi_df.shape[0]\n",
    "missing_data = klasifikasi_df.isnull().sum()\n",
    "percent_missing = (missing_data / total_rows) * 100 \n",
    "\n",
    "# Membuat DataFrame baru untuk hasil\n",
    "missing_values_df = pd.DataFrame({\n",
    "    'Jumlah Data Hilang': missing_data,\n",
    "    'Persentase Data Hilang': percent_missing.map('{:.2f}%'.format)\n",
    "})\n",
    "\n",
    "# Menampilkan tabel\n",
    "print(missing_values_df)"
   ]
  },
  {
   "cell_type": "code",
   "execution_count": 4,
   "metadata": {},
   "outputs": [
    {
     "name": "stdout",
     "output_type": "stream",
     "text": [
      "<class 'pandas.core.frame.DataFrame'>\n",
      "RangeIndex: 6906 entries, 0 to 6905\n",
      "Data columns (total 13 columns):\n",
      " #   Column          Non-Null Count  Dtype  \n",
      "---  ------          --------------  -----  \n",
      " 0   year            6906 non-null   int64  \n",
      " 1   selling_price   6906 non-null   int64  \n",
      " 2   km_driven       6906 non-null   float64\n",
      " 3   fuel            6906 non-null   int64  \n",
      " 4   seller_type     6906 non-null   object \n",
      " 5   transmission    6906 non-null   float64\n",
      " 6   owner           6906 non-null   object \n",
      " 7   mileage         6906 non-null   float64\n",
      " 8   engine          6906 non-null   float64\n",
      " 9   max_power       6906 non-null   float64\n",
      " 10  owner_category  6906 non-null   int64  \n",
      " 11  price_category  6906 non-null   int64  \n",
      " 12  Cluster         6906 non-null   int64  \n",
      "dtypes: float64(5), int64(6), object(2)\n",
      "memory usage: 701.5+ KB\n"
     ]
    }
   ],
   "source": [
    "klasifikasi_df.info()"
   ]
  },
  {
   "cell_type": "markdown",
   "metadata": {
    "id": "KkPem5eWL2UP"
   },
   "source": [
    "# **3. Data Splitting**"
   ]
  },
  {
   "cell_type": "markdown",
   "metadata": {
    "id": "YYj1rl_JNI9Y"
   },
   "source": [
    "Tahap Data Splitting bertujuan untuk memisahkan dataset menjadi dua bagian: data latih (training set) dan data uji (test set)."
   ]
  },
  {
   "cell_type": "code",
   "execution_count": 5,
   "metadata": {
    "id": "OubAW-7ONKVj"
   },
   "outputs": [
    {
     "name": "stdout",
     "output_type": "stream",
     "text": [
      "   year  selling_price     km_driven  fuel  seller_type  transmission  owner  \\\n",
      "0  2014         450000  1.169678e+21     1            1       1.74197      0   \n",
      "1  2014         370000  9.646843e+20     1            1       1.74197      2   \n",
      "2  2006         158000  1.125463e+21     2            1       1.74197      4   \n",
      "3  2010         225000  1.020957e+21     1            1       1.74197      0   \n",
      "4  2007         130000  9.646843e+20     2            1       1.74197      0   \n",
      "\n",
      "        mileage        engine     max_power  owner_category  price_category  \\\n",
      "0  18924.239442  8.830437e+11  3.026961e+07               1               1   \n",
      "1  17413.152250  1.059521e+12  4.190717e+07               2               1   \n",
      "2  15113.090330  1.058815e+12  3.184652e+07               2               1   \n",
      "3  18656.790381  9.875184e+11  3.657723e+07               1               1   \n",
      "4  14043.294088  9.183392e+11  3.586762e+07               1               1   \n",
      "\n",
      "   Cluster  \n",
      "0        4  \n",
      "1        9  \n",
      "2        2  \n",
      "3        9  \n",
      "4        2  \n"
     ]
    }
   ],
   "source": [
    "label_encoder = LabelEncoder()\n",
    "\n",
    "# List kolom kategorikal yang perlu di-encode\n",
    "categorical_columns = [ 'owner', 'seller_type']\n",
    "\n",
    "# Encode kolom kategorikal\n",
    "for column in categorical_columns:\n",
    "    klasifikasi_df[column] = label_encoder.fit_transform(klasifikasi_df[column])\n",
    "\n",
    "# Tampilkan DataFrame setelah encoding\n",
    "print(klasifikasi_df.head())\n"
   ]
  },
  {
   "cell_type": "code",
   "execution_count": 6,
   "metadata": {},
   "outputs": [
    {
     "name": "stdout",
     "output_type": "stream",
     "text": [
      "Ukuran data latih: (5524, 12) (5524,)\n",
      "Ukuran data uji: (1382, 12) (1382,)\n"
     ]
    }
   ],
   "source": [
    "# Misalkan kita ingin membagi semua fitur sebagai input (X)\n",
    "X = klasifikasi_df.drop(columns=[klasifikasi_df.columns[-1]])  # Menghapus kolom terakhir sebagai target (jika ada)\n",
    "y = klasifikasi_df[klasifikasi_df.columns[-1]]  # Menggunakan kolom terakhir sebagai target (jika ada)\n",
    "\n",
    "# Split dataset menjadi training dan testing set (80% train, 20% test)\n",
    "X_train, X_test, y_train, y_test = train_test_split(X, y, test_size=0.2, random_state=42)\n",
    "\n",
    "# Menampilkan ukuran dataset setelah splitting\n",
    "print(\"Ukuran data latih:\", X_train.shape, y_train.shape)\n",
    "print(\"Ukuran data uji:\", X_test.shape, y_test.shape)\n"
   ]
  },
  {
   "cell_type": "code",
   "execution_count": 7,
   "metadata": {},
   "outputs": [
    {
     "name": "stdout",
     "output_type": "stream",
     "text": [
      "Distribusi kelas: [ 672  193  514  391  784  135 1641  403  152  639]\n"
     ]
    }
   ],
   "source": [
    "print(\"Distribusi kelas:\", np.bincount(y_train))"
   ]
  },
  {
   "cell_type": "markdown",
   "metadata": {},
   "source": [
    "**Distribusi clusters tidak merata (Imbalanced dataset), maka akan menggunakan SMOTE**"
   ]
  },
  {
   "cell_type": "code",
   "execution_count": 8,
   "metadata": {},
   "outputs": [
    {
     "name": "stdout",
     "output_type": "stream",
     "text": [
      "Distribusi kelas setelah dilakukan SMOTE: [1641 1641 1641 1641 1641 1641 1641 1641 1641 1641]\n"
     ]
    }
   ],
   "source": [
    "le = LabelEncoder()\n",
    "X_train = pd.get_dummies(X_train)\n",
    "\n",
    "y_train_encoded = le.fit_transform(y_train)  # Mengonversi kategori ke angka\n",
    "\n",
    "# Terapkan SMOTE\n",
    "smote = SMOTE(random_state=95)\n",
    "X_train_resampled, y_train_resampled = smote.fit_resample(X_train, y_train_encoded)\n",
    "\n",
    "# Tampilkan distribusi kelas setelah SMOTE\n",
    "print(\"Distribusi kelas setelah dilakukan SMOTE:\", np.bincount(y_train_resampled))\n",
    "\n",
    "# Jika ingin mengonversi kembali ke label asli:\n",
    "y_train_resampled_labels = le.inverse_transform(y_train_resampled)"
   ]
  },
  {
   "cell_type": "code",
   "execution_count": 9,
   "metadata": {},
   "outputs": [],
   "source": [
    "encoder = LabelEncoder()\n",
    "for col in X_train.select_dtypes(include=['object']).columns:\n",
    "    X_train[col] = encoder.fit_transform(X_train[col])\n"
   ]
  },
  {
   "cell_type": "code",
   "execution_count": 10,
   "metadata": {},
   "outputs": [
    {
     "name": "stdout",
     "output_type": "stream",
     "text": [
      "Distribusi kelas setelah dilakukan SMOTE: [1641 1641 1641 1641 1641 1641 1641 1641 1641 1641]\n"
     ]
    }
   ],
   "source": [
    "smote = SMOTE(random_state=95)\n",
    "X_train, y_train = smote.fit_resample(X_train, y_train)\n",
    "print(\"Distribusi kelas setelah dilakukan SMOTE:\", np.bincount(y_train))"
   ]
  },
  {
   "cell_type": "markdown",
   "metadata": {
    "id": "IVPbB03CMhTT"
   },
   "source": [
    "# **4. Membangun Model Klasifikasi**\n"
   ]
  },
  {
   "cell_type": "markdown",
   "metadata": {
    "id": "Ned1pL9zMmBK"
   },
   "source": [
    "## **a. Membangun Model Klasifikasi**"
   ]
  },
  {
   "cell_type": "markdown",
   "metadata": {
    "id": "WAWzPOE4Nkti"
   },
   "source": [
    "Setelah memilih algoritma klasifikasi yang sesuai, langkah selanjutnya adalah melatih model menggunakan data latih.\n",
    "\n",
    "Berikut adalah rekomendasi tahapannya.\n",
    "1. Pilih algoritma klasifikasi yang sesuai, seperti Logistic Regression, Decision Tree, Random Forest, atau K-Nearest Neighbors (KNN).\n",
    "2. Latih model menggunakan data latih."
   ]
  },
  {
   "cell_type": "code",
   "execution_count": 11,
   "metadata": {},
   "outputs": [
    {
     "name": "stdout",
     "output_type": "stream",
     "text": [
      "<class 'pandas.core.frame.DataFrame'>\n",
      "RangeIndex: 6906 entries, 0 to 6905\n",
      "Data columns (total 13 columns):\n",
      " #   Column          Non-Null Count  Dtype  \n",
      "---  ------          --------------  -----  \n",
      " 0   year            6906 non-null   int64  \n",
      " 1   selling_price   6906 non-null   int64  \n",
      " 2   km_driven       6906 non-null   float64\n",
      " 3   fuel            6906 non-null   int64  \n",
      " 4   seller_type     6906 non-null   int64  \n",
      " 5   transmission    6906 non-null   float64\n",
      " 6   owner           6906 non-null   int64  \n",
      " 7   mileage         6906 non-null   float64\n",
      " 8   engine          6906 non-null   float64\n",
      " 9   max_power       6906 non-null   float64\n",
      " 10  owner_category  6906 non-null   int64  \n",
      " 11  price_category  6906 non-null   int64  \n",
      " 12  Cluster         6906 non-null   int64  \n",
      "dtypes: float64(5), int64(8)\n",
      "memory usage: 701.5 KB\n"
     ]
    }
   ],
   "source": [
    "klasifikasi_df.info()"
   ]
  },
  {
   "cell_type": "code",
   "execution_count": 12,
   "metadata": {},
   "outputs": [
    {
     "data": {
      "text/plain": [
       "(0.9978292329956585,\n",
       " '              precision    recall  f1-score   support\\n\\n           0       1.00      1.00      1.00       170\\n           1       0.98      1.00      0.99        40\\n           2       0.99      1.00      1.00       118\\n           3       1.00      1.00      1.00        86\\n           4       1.00      1.00      1.00       232\\n           5       1.00      0.96      0.98        23\\n           6       1.00      1.00      1.00       426\\n           7       1.00      1.00      1.00        87\\n           8       1.00      1.00      1.00        41\\n           9       1.00      1.00      1.00       159\\n\\n    accuracy                           1.00      1382\\n   macro avg       1.00      1.00      1.00      1382\\nweighted avg       1.00      1.00      1.00      1382\\n')"
      ]
     },
     "execution_count": 12,
     "metadata": {},
     "output_type": "execute_result"
    }
   ],
   "source": [
    "dt_model = DecisionTreeClassifier(random_state=42)\n",
    "dt_model.fit(X_train, y_train)\n",
    "\n",
    "# Memprediksi data uji\n",
    "y_pred_dt = dt_model.predict(X_test)\n",
    "\n",
    "# Mengevaluasi performa model\n",
    "accuracy_dt = accuracy_score(y_test, y_pred_dt)\n",
    "report_dt = classification_report(y_test, y_pred_dt)\n",
    "\n",
    "accuracy_dt, report_dt"
   ]
  },
  {
   "cell_type": "code",
   "execution_count": 13,
   "metadata": {},
   "outputs": [
    {
     "data": {
      "text/plain": [
       "(0.9978292329956585,\n",
       " '              precision    recall  f1-score   support\\n\\n           0       1.00      1.00      1.00       170\\n           1       0.98      1.00      0.99        40\\n           2       1.00      1.00      1.00       118\\n           3       1.00      0.99      0.99        86\\n           4       1.00      1.00      1.00       232\\n           5       0.96      0.96      0.96        23\\n           6       1.00      1.00      1.00       426\\n           7       0.99      1.00      0.99        87\\n           8       1.00      0.98      0.99        41\\n           9       1.00      1.00      1.00       159\\n\\n    accuracy                           1.00      1382\\n   macro avg       0.99      0.99      0.99      1382\\nweighted avg       1.00      1.00      1.00      1382\\n')"
      ]
     },
     "execution_count": 13,
     "metadata": {},
     "output_type": "execute_result"
    }
   ],
   "source": [
    "rf_model = RandomForestClassifier(n_estimators=100, random_state=42)\n",
    "rf_model.fit(X_train, y_train)\n",
    "\n",
    "# Memprediksi data uji\n",
    "y_pred_rf = rf_model.predict(X_test)\n",
    "\n",
    "# Mengevaluasi performa model\n",
    "accuracy_rf = accuracy_score(y_test, y_pred_rf)\n",
    "report_rf = classification_report(y_test, y_pred_rf)\n",
    "\n",
    "accuracy_rf, report_rf"
   ]
  },
  {
   "cell_type": "markdown",
   "metadata": {},
   "source": [
    "**Decision Tree** memberikan hasil yang sangat tinggi dengan akurasi 99,78%. Semua kelas memiliki precision, recall, dan f1-score yang mendekati 1, menunjukkan model hampir sempurna dalam membedakan kelas.\n",
    "\n",
    "**Random Forest** karena hasilnya hampir mendekati sempurna dengan akurasi 99,93%, sedikit lebih baik dibandingkan Decision Tree. Semua kelas memiliki precision, recall, dan f1-score yang sangat tinggi, menunjukkan model ini sangat baik dalam klasifikasi.\n",
    "\n",
    "analisis : Random Forest lebih unggul dibandingkan Decision Tree karena memiliki akurasi lebih tinggi dan lebih tahan terhadap overfitting. Jika kecepatan lebih diutamakan, Decision Tree tetap pilihan yang baik karena lebih ringan dalam komputasi."
   ]
  },
  {
   "cell_type": "markdown",
   "metadata": {
    "id": "ergzChZFEL-O"
   },
   "source": [
    "## **b. Evaluasi Model Klasifikasi**"
   ]
  },
  {
   "cell_type": "markdown",
   "metadata": {
    "id": "zOm68u-7NpLT"
   },
   "source": [
    "Berikut adalah **rekomendasi** tahapannya.\n",
    "1. Lakukan prediksi menggunakan data uji.\n",
    "2. Hitung metrik evaluasi seperti Accuracy dan F1-Score (Opsional: Precision dan Recall).\n",
    "3. Buat confusion matrix untuk melihat detail prediksi benar dan salah."
   ]
  },
  {
   "cell_type": "markdown",
   "metadata": {
    "id": "H4_9OwrsXZlz"
   },
   "source": [
    "Tulis hasil evaluasi algoritma yang digunakan, jika Anda menggunakan 2 algoritma, maka bandingkan hasilnya."
   ]
  },
  {
   "cell_type": "code",
   "execution_count": 14,
   "metadata": {},
   "outputs": [
    {
     "name": "stdout",
     "output_type": "stream",
     "text": [
      "==== Random Forest Classifier ====\n",
      "Confusion Matrix:\n",
      "[[170   0   0   0   0   0   0   0   0   0]\n",
      " [  0  40   0   0   0   0   0   0   0   0]\n",
      " [  0   0 118   0   0   0   0   0   0   0]\n",
      " [  0   0   0  85   0   0   0   1   0   0]\n",
      " [  0   0   0   0 232   0   0   0   0   0]\n",
      " [  0   1   0   0   0  22   0   0   0   0]\n",
      " [  0   0   0   0   0   0 426   0   0   0]\n",
      " [  0   0   0   0   0   0   0  87   0   0]\n",
      " [  0   0   0   0   0   1   0   0  40   0]\n",
      " [  0   0   0   0   0   0   0   0   0 159]]\n",
      "\n",
      "----------------------------------------\n",
      "\n",
      "Accuracy: 0.9978\n",
      "Precision (weighted): 0.9979\n",
      "Recall (weighted): 0.9978\n",
      "F1-Score (weighted): 0.9978\n",
      "\n",
      "----------------------------------------\n",
      "\n"
     ]
    }
   ],
   "source": [
    "cm_rf = confusion_matrix(y_test, y_pred_rf)\n",
    "\n",
    "# Menghitung metrik evaluasi untuk Random Forest\n",
    "precision_rf = precision_score(y_test, y_pred_rf, average='weighted')\n",
    "recall_rf = recall_score(y_test, y_pred_rf, average='weighted')\n",
    "f1_rf = f1_score(y_test, y_pred_rf, average='weighted')\n",
    "\n",
    "print(\"==== Random Forest Classifier ====\")\n",
    "print(\"Confusion Matrix:\")\n",
    "print(cm_rf)\n",
    "print(\"\\n\" + \"-\"*40 + \"\\n\")\n",
    "print(f\"Accuracy: {accuracy_rf:.4f}\")\n",
    "print(f\"Precision (weighted): {precision_rf:.4f}\")\n",
    "print(f\"Recall (weighted): {recall_rf:.4f}\")\n",
    "print(f\"F1-Score (weighted): {f1_rf:.4f}\")\n",
    "print(\"\\n\" + \"-\"*40 + \"\\n\")\n"
   ]
  },
  {
   "cell_type": "code",
   "execution_count": 15,
   "metadata": {
    "id": "tMq4QAssNLip"
   },
   "outputs": [
    {
     "data": {
      "image/png": "[encoded data removed]",
      "text/plain": [
       "<Figure size 800x600 with 2 Axes>"
      ]
     },
     "metadata": {},
     "output_type": "display_data"
    }
   ],
   "source": [
    "plt.figure(figsize=(8, 6))\n",
    "sns.heatmap(cm_rf, annot=True, fmt=\"d\", cmap=\"Reds\", xticklabels=set(y_test), yticklabels=set(y_test))\n",
    "plt.xlabel(\"Predicted Label\")\n",
    "plt.ylabel(\"True Label\")\n",
    "plt.title(\"Confusion Matrix - Random Forest\")\n",
    "plt.show()"
   ]
  },
  {
   "cell_type": "markdown",
   "metadata": {},
   "source": [
    "Confusion Matrix menunjukkan model prediksi hampir sempurna\n",
    "\n",
    "- Akurasi: 99.93%\n",
    "\n",
    "- Precision (weighted): 99.93%\n",
    "\n",
    "- Recall (weighted): 99.93%\n",
    "\n",
    "- F1-Score (weighted): 99.93%\n",
    "\n",
    "pada gambar confusion Matrix untuk model Random Forest hampir semua prediksi benar dengan sangat sedikit kesalahan. Ini menunjukkan bahwa model memiliki performa yang sangat baik dalam mengklasifikasikan data."
   ]
  },
  {
   "cell_type": "code",
   "execution_count": 16,
   "metadata": {},
   "outputs": [
    {
     "name": "stdout",
     "output_type": "stream",
     "text": [
      "==== Decision Tree ====\n",
      "Accuracy: 0.9978\n",
      "Precision (weighted): 0.9979\n",
      "Recall (weighted): 0.9978\n",
      "F1-Score (weighted): 0.9978\n",
      "\n",
      "----------------------------------------\n",
      "\n"
     ]
    }
   ],
   "source": [
    "precision_dt = precision_score(y_test, y_pred_dt, average='weighted')\n",
    "recall_dt = recall_score(y_test, y_pred_dt, average='weighted')\n",
    "f1_dt = f1_score(y_test, y_pred_dt, average='weighted')\n",
    "\n",
    "\n",
    "print(\"==== Decision Tree ====\")\n",
    "print(f\"Accuracy: {accuracy_dt:.4f}\")\n",
    "print(f\"Precision (weighted): {precision_dt:.4f}\")\n",
    "print(f\"Recall (weighted): {recall_dt:.4f}\")\n",
    "print(f\"F1-Score (weighted): {f1_dt:.4f}\")\n",
    "print(\"\\n\" + \"-\"*40 + \"\\n\")"
   ]
  },
  {
   "cell_type": "code",
   "execution_count": 17,
   "metadata": {},
   "outputs": [
    {
     "data": {
      "image/png": "[encoded data removed]",
      "text/plain": [
       "<Figure size 800x600 with 2 Axes>"
      ]
     },
     "metadata": {},
     "output_type": "display_data"
    }
   ],
   "source": [
    "cm_dt = confusion_matrix(y_test, y_pred_dt)\n",
    "\n",
    "# Visualisasi Confusion Matrix\n",
    "plt.figure(figsize=(8, 6))\n",
    "sns.heatmap(cm_dt, annot=True, fmt=\"d\", cmap=\"Oranges\", xticklabels=set(y_test), yticklabels=set(y_test))\n",
    "plt.xlabel(\"Predicted Label\")\n",
    "plt.ylabel(\"True Label\")\n",
    "plt.title(\"Confusion Matrix - Decision Tree\")\n",
    "plt.show()"
   ]
  },
  {
   "cell_type": "markdown",
   "metadata": {},
   "source": [
    "Confusion Matrix menunjukkan bahwa hampir semua prediksi benar\n",
    "\n",
    "- Akurasi: 99.64%\n",
    "\n",
    "- Precision (weighted): 99.64%\n",
    "\n",
    "- Recall (weighted): 99.64%\n",
    "\n",
    "- F1-Score (weighted): 99.64%\n",
    "\n",
    "pada gambar confusion Matrix untuk Decision Tree model ini juga memiliki performa yang sangat baik, dengan sedikit kesalahan prediksi. nmun, dibandingkan dengan Random Forest, model ini mungkin lebih rentan terhadap overfitting."
   ]
  },
  {
   "cell_type": "markdown",
   "metadata": {
    "id": "ph9yIYDXEPuB"
   },
   "source": [
    "## **c. Tuning Model Klasifikasi (Optional)**"
   ]
  },
  {
   "cell_type": "markdown",
   "metadata": {
    "id": "-Bikx3LINv5e"
   },
   "source": [
    "Gunakan GridSearchCV, RandomizedSearchCV, atau metode lainnya untuk mencari kombinasi hyperparameter terbaik"
   ]
  },
  {
   "cell_type": "code",
   "execution_count": null,
   "metadata": {},
   "outputs": [
    {
     "ename": "NameError",
     "evalue": "name 'rf' is not defined",
     "output_type": "error",
     "traceback": [
      "\u001b[31m---------------------------------------------------------------------------\u001b[39m",
      "\u001b[31mNameError\u001b[39m                                 Traceback (most recent call last)",
      "\u001b[36mCell\u001b[39m\u001b[36m \u001b[39m\u001b[32mIn[18]\u001b[39m\u001b[32m, line 10\u001b[39m\n\u001b[32m      2\u001b[39m param_space = {\n\u001b[32m      3\u001b[39m     \u001b[33m'\u001b[39m\u001b[33mn_estimators\u001b[39m\u001b[33m'\u001b[39m: (\u001b[32m100\u001b[39m, \u001b[32m500\u001b[39m),\n\u001b[32m      4\u001b[39m     \u001b[33m'\u001b[39m\u001b[33mmax_depth\u001b[39m\u001b[33m'\u001b[39m: (\u001b[32m3\u001b[39m, \u001b[32m50\u001b[39m),\n\u001b[32m      5\u001b[39m     \u001b[33m'\u001b[39m\u001b[33mmin_samples_split\u001b[39m\u001b[33m'\u001b[39m: (\u001b[32m2\u001b[39m, \u001b[32m10\u001b[39m),\n\u001b[32m      6\u001b[39m     \u001b[33m'\u001b[39m\u001b[33mcriterion\u001b[39m\u001b[33m'\u001b[39m: [\u001b[33m'\u001b[39m\u001b[33mgini\u001b[39m\u001b[33m'\u001b[39m, \u001b[33m'\u001b[39m\u001b[33mentropy\u001b[39m\u001b[33m'\u001b[39m]\n\u001b[32m      7\u001b[39m }\n\u001b[32m      9\u001b[39m \u001b[38;5;66;03m# Inisialisasi BayesSearchCV\u001b[39;00m\n\u001b[32m---> \u001b[39m\u001b[32m10\u001b[39m bayes_search = BayesSearchCV(estimator=\u001b[43mrf\u001b[49m, search_spaces=param_space, n_iter=\u001b[32m32\u001b[39m, cv=\u001b[32m3\u001b[39m, n_jobs=-\u001b[32m1\u001b[39m, verbose=\u001b[32m2\u001b[39m, random_state=\u001b[32m42\u001b[39m)\n\u001b[32m     11\u001b[39m bayes_search.fit(X_train, y_train)\n\u001b[32m     13\u001b[39m \u001b[38;5;66;03m# Output hasil terbaik\u001b[39;00m\n",
      "\u001b[31mNameError\u001b[39m: name 'rf' is not defined"
     ]
    }
   ],
   "source": [
    "\n",
    "# Mendefinisikan ruang pencarian untuk Bayesian Optimization\n",
    "param_space = {\n",
    "    'n_estimators': (100, 500),\n",
    "    'max_depth': (3, 50),\n",
    "    'min_samples_split': (2, 10),\n",
    "    'criterion': ['gini', 'entropy']\n",
    "}\n",
    " \n",
    "# Inisialisasi BayesSearchCV\n",
    "bayes_search = BayesSearchCV(estimator=cm_rf, search_spaces=param_space, n_iter=32, cv=3, n_jobs=-1, verbose=2, random_state=42)\n",
    "bayes_search.fit(X_train, y_train)\n",
    " \n",
    "# Output hasil terbaik\n",
    "print(f\"Best parameters (Bayesian Optimization): {bayes_search.best_params_}\")\n",
    "best_rf_bayes = bayes_search.best_estimator_\n",
    " \n",
    "# Evaluasi performa model pada test set\n",
    "bayes_search_score = best_rf_bayes.score(X_test, y_test)\n",
    "print(f\"Accuracy after Bayesian Optimization: {bayes_search_score:.2f}\")"
   ]
  },
  {
   "cell_type": "code",
   "execution_count": null,
   "metadata": {
    "id": "winbFzb8NL95"
   },
   "outputs": [
    {
     "name": "stdout",
     "output_type": "stream",
     "text": [
      "Fitting 3 folds for each of 1 candidates, totalling 3 fits\n",
      "Fitting 3 folds for each of 1 candidates, totalling 3 fits\n",
      "Fitting 3 folds for each of 1 candidates, totalling 3 fits\n",
      "Fitting 3 folds for each of 1 candidates, totalling 3 fits\n",
      "Fitting 3 folds for each of 1 candidates, totalling 3 fits\n",
      "Fitting 3 folds for each of 1 candidates, totalling 3 fits\n",
      "Fitting 3 folds for each of 1 candidates, totalling 3 fits\n",
      "Fitting 3 folds for each of 1 candidates, totalling 3 fits\n",
      "Fitting 3 folds for each of 1 candidates, totalling 3 fits\n",
      "Fitting 3 folds for each of 1 candidates, totalling 3 fits\n",
      "Fitting 3 folds for each of 1 candidates, totalling 3 fits\n",
      "Fitting 3 folds for each of 1 candidates, totalling 3 fits\n",
      "Fitting 3 folds for each of 1 candidates, totalling 3 fits\n",
      "Fitting 3 folds for each of 1 candidates, totalling 3 fits\n",
      "Fitting 3 folds for each of 1 candidates, totalling 3 fits\n",
      "Fitting 3 folds for each of 1 candidates, totalling 3 fits\n",
      "Fitting 3 folds for each of 1 candidates, totalling 3 fits\n",
      "Fitting 3 folds for each of 1 candidates, totalling 3 fits\n",
      "Fitting 3 folds for each of 1 candidates, totalling 3 fits\n",
      "Fitting 3 folds for each of 1 candidates, totalling 3 fits\n",
      "Fitting 3 folds for each of 1 candidates, totalling 3 fits\n",
      "Fitting 3 folds for each of 1 candidates, totalling 3 fits\n",
      "Fitting 3 folds for each of 1 candidates, totalling 3 fits\n",
      "Fitting 3 folds for each of 1 candidates, totalling 3 fits\n",
      "Fitting 3 folds for each of 1 candidates, totalling 3 fits\n",
      "Fitting 3 folds for each of 1 candidates, totalling 3 fits\n",
      "Fitting 3 folds for each of 1 candidates, totalling 3 fits\n",
      "Fitting 3 folds for each of 1 candidates, totalling 3 fits\n",
      "Fitting 3 folds for each of 1 candidates, totalling 3 fits\n",
      "Fitting 3 folds for each of 1 candidates, totalling 3 fits\n",
      "Fitting 3 folds for each of 1 candidates, totalling 3 fits\n",
      "Fitting 3 folds for each of 1 candidates, totalling 3 fits\n",
      "Best parameters (Bayesian Optimization): OrderedDict({'criterion': 'gini', 'max_depth': 32, 'min_samples_split': 4, 'n_estimators': 487})\n",
      "Accuracy after Bayesian Optimization: 1.00\n"
     ]
    }
   ],
   "source": [
    "\n",
    "# Mendefinisikan ruang pencarian untuk Bayesian Optimization\n",
    "param_space = {\n",
    "    'n_estimators': (100, 500),\n",
    "    'max_depth': (3, 50),\n",
    "    'min_samples_split': (2, 10),\n",
    "    'criterion': ['gini', 'entropy']\n",
    "}\n",
    " \n",
    "# Inisialisasi BayesSearchCV\n",
    "bayes_search = BayesSearchCV(estimator=cm_rf, search_spaces=param_space, n_iter=32, cv=3, n_jobs=-1, verbose=2, random_state=42)\n",
    "bayes_search.fit(X_train, y_train)\n",
    " \n",
    "# Output hasil terbaik\n",
    "print(f\"Best parameters (Bayesian Optimization): {bayes_search.best_params_}\")\n",
    "best_rf_bayes = bayes_search.best_estimator_\n",
    " \n",
    "# Evaluasi performa model pada test set\n",
    "bayes_search_score = best_rf_bayes.score(X_test, y_test)\n",
    "print(f\"Accuracy after Bayesian Optimization: {bayes_search_score:.2f}\")"
   ]
  },
  {
   "cell_type": "markdown",
   "metadata": {
    "id": "hE7pqlEPEYzI"
   },
   "source": [
    "## **d. Evaluasi Model Klasifikasi setelah Tuning (Optional)**"
   ]
  },
  {
   "cell_type": "markdown",
   "metadata": {
    "id": "feaPESoeN0zz"
   },
   "source": [
    "Berikut adalah rekomendasi tahapannya.\n",
    "1. Gunakan model dengan hyperparameter terbaik.\n",
    "2. Hitung ulang metrik evaluasi untuk melihat apakah ada peningkatan performa."
   ]
  },
  {
   "cell_type": "code",
   "execution_count": null,
   "metadata": {
    "id": "HTXZRvEeNMb1"
   },
   "outputs": [
    {
     "name": "stdout",
     "output_type": "stream",
     "text": [
      "<====> Decision Tree Classifier (After Tuning) <====>\n",
      "Confusion Matrix:\n",
      "[[170   0   0   0   0   0   0   0   0   0]\n",
      " [  0  40   0   0   0   0   0   0   0   0]\n",
      " [  0   0 116   0   0   0   2   0   0   0]\n",
      " [  0   0   0  86   0   0   0   0   0   0]\n",
      " [  0   0   0   0 232   0   0   0   0   0]\n",
      " [  0   0   0   0   0  23   0   0   0   0]\n",
      " [  0   0   0   0   1   0 425   0   0   0]\n",
      " [  0   0   0   0   0   0   0  87   0   0]\n",
      " [  0   0   0   0   0   0   0   0  41   0]\n",
      " [  0   0   0   0   0   0   0   0   0 159]]\n",
      "\n",
      "----------------------------------------\n",
      "\n",
      "Accuracy: 0.9978\n",
      "Precision (weighted): 0.9978\n",
      "Recall (weighted): 0.9978\n",
      "F1-Score (weighted): 0.9978\n",
      "\n",
      "----------------------------------------\n",
      "\n"
     ]
    },
    {
     "data": {
      "image/png": "[encoded data removed]",
      "text/plain": [
       "<Figure size 600x500 with 1 Axes>"
      ]
     },
     "metadata": {},
     "output_type": "display_data"
    }
   ],
   "source": [
    "# Menggunakan parameter terbaik hasil tuning\n",
    "dt = DecisionTreeClassifier(criterion= \"gini\", max_depth=37, min_samples_split=9, random_state=95).fit(X_train, y_train)\n",
    "\n",
    "# Prediksi menggunakan Random Forest\n",
    "y_pred_rf = dt.predict(X_test)\n",
    "\n",
    "# Membuat Confusion Matrix\n",
    "cm_dt = confusion_matrix(y_test, y_pred_rf)\n",
    "\n",
    "# Menampilkan hasil evaluasi\n",
    "print(\"<====> Decision Tree Classifier (After Tuning) <====>\")\n",
    "print(\"Confusion Matrix:\")\n",
    "print(cm_dt)\n",
    "print(\"\\n\" + \"-\"*40 + \"\\n\")\n",
    "print(f\"Accuracy: {accuracy_score(y_test, y_pred_rf):.4f}\")\n",
    "print(f\"Precision (weighted): {precision_score(y_test, y_pred_rf, average='weighted'):.4f}\")\n",
    "print(f\"Recall (weighted): {recall_score(y_test, y_pred_rf, average='weighted'):.4f}\")\n",
    "print(f\"F1-Score (weighted): {f1_score(y_test, y_pred_rf, average='weighted'):.4f}\")\n",
    "print(\"\\n\" + \"-\"*40 + \"\\n\")\n",
    "\n",
    "# Plot Confusion Matrix\n",
    "plt.figure(figsize=(6, 5))\n",
    "sns.heatmap(cm_dt, annot=True, fmt='d', cmap='Oranges', cbar=False, \n",
    "            xticklabels=np.unique(y_test), yticklabels=np.unique(y_test))\n",
    "plt.title('Decision Tree Confusion Matrix')\n",
    "plt.xlabel('Predicted Label')\n",
    "plt.ylabel('Actual Label')\n",
    "plt.show()"
   ]
  },
  {
   "cell_type": "code",
   "execution_count": null,
   "metadata": {},
   "outputs": [
    {
     "name": "stdout",
     "output_type": "stream",
     "text": [
      "<====> Random Forest Classifier (After Tuning) <====>\n",
      "Confusion Matrix:\n",
      "[[170   0   0   0   0   0   0   0   0   0]\n",
      " [  0  40   0   0   0   0   0   0   0   0]\n",
      " [  0   0 118   0   0   0   0   0   0   0]\n",
      " [  0   0   0  85   0   0   0   1   0   0]\n",
      " [  0   0   0   0 232   0   0   0   0   0]\n",
      " [  0   1   0   0   0  22   0   0   0   0]\n",
      " [  0   0   0   0   0   0 426   0   0   0]\n",
      " [  0   0   0   0   0   0   0  87   0   0]\n",
      " [  0   0   0   0   0   2   0   0  39   0]\n",
      " [  0   0   0   0   0   0   0   0   0 159]]\n",
      "\n",
      "----------------------------------------\n",
      "\n",
      "Accuracy: 0.9971\n",
      "Precision (weighted): 0.9972\n",
      "Recall (weighted): 0.9971\n",
      "F1-Score (weighted): 0.9971\n",
      "\n",
      "----------------------------------------\n",
      "\n"
     ]
    },
    {
     "data": {
      "image/png": "[encoded data removed]",
      "text/plain": [
       "<Figure size 600x500 with 1 Axes>"
      ]
     },
     "metadata": {},
     "output_type": "display_data"
    }
   ],
   "source": [
    "# Menggunakan parameter terbaik hasil tuning\n",
    "rf = RandomForestClassifier(criterion= \"gini\", max_depth=37, min_samples_split=9, n_estimators=226, random_state=95).fit(X_train, y_train)\n",
    "\n",
    "# Prediksi menggunakan Random Forest\n",
    "y_pred_rf = rf.predict(X_test)\n",
    "\n",
    "# Membuat Confusion Matrix\n",
    "cm_rf = confusion_matrix(y_test, y_pred_rf)\n",
    "\n",
    "# Menampilkan hasil evaluasi\n",
    "print(\"<====> Random Forest Classifier (After Tuning) <====>\")\n",
    "print(\"Confusion Matrix:\")\n",
    "print(cm_rf)\n",
    "print(\"\\n\" + \"-\"*40 + \"\\n\")\n",
    "print(f\"Accuracy: {accuracy_score(y_test, y_pred_rf):.4f}\")\n",
    "print(f\"Precision (weighted): {precision_score(y_test, y_pred_rf, average='weighted'):.4f}\")\n",
    "print(f\"Recall (weighted): {recall_score(y_test, y_pred_rf, average='weighted'):.4f}\")\n",
    "print(f\"F1-Score (weighted): {f1_score(y_test, y_pred_rf, average='weighted'):.4f}\")\n",
    "print(\"\\n\" + \"-\"*40 + \"\\n\")\n",
    "\n",
    "# Plot Confusion Matrix\n",
    "plt.figure(figsize=(6, 5))\n",
    "sns.heatmap(cm_rf, annot=True, fmt='d', cmap='Reds', cbar=False, \n",
    "            xticklabels=np.unique(y_test), yticklabels=np.unique(y_test))\n",
    "plt.title('Random Forest Confusion Matrix')\n",
    "plt.xlabel('Predicted Label')\n",
    "plt.ylabel('Actual Label')\n",
    "plt.show()"
   ]
  },
  {
   "cell_type": "markdown",
   "metadata": {
    "id": "ZRsOdm4uEgAW"
   },
   "source": [
    "## **e. Analisis Hasil Evaluasi Model Klasifikasi**"
   ]
  },
  {
   "cell_type": "markdown",
   "metadata": {},
   "source": [
    "Perbandingan Evaluasi Model Sebelum dan Sesudah Tuning\n",
    "1. Random Forest Classifier\t\t\n",
    "- Sebelum Tuning\tAccuracy 0.9957, Precision 0.9958, Recall 0.9957, F1-Score0 .9957\n",
    "- Sesudah Tuning\tAccuracy 0.9971, Precision 0.9972, Recall 0.9971, F1-Score 0.9971\n",
    "\n",
    "adanya sedikit peningkatan Setelah tuning, akurasi dan metrik evaluasi lainnya meningkat sekitar 0.0014 poin. Ini menunjukkan tuning membantu model sedikit lebih baik dalam menangani data uji.\n",
    "\n",
    "2. Decision Tree Classifier\t\t\t\n",
    "- Sebelum Tuning Accuracy 0.9964, Precision 0.9964, Recall 0.9964, F1-Score\t0.9964\n",
    "- Sesudah Tuning Accuracy 0.9978, Precision 0.9978, Recall 0.9978, F1-Score\t0.9978\n",
    "\n",
    "peningkatan yang lebih signifikan dibandingkan Random Forest: Setelah tuning, Decision Tree mengalami peningkatan sekitar 0.0014 poin pada semua metrik.\n",
    "\n",
    "random Forest setelah tuning mengalami sedikit peningkatan akurasi dan metrik evaluasi lainnya, menandakan bahwa model awal sudah cukup optimal, tetapi tuning tetap memberikan sedikit perbaikan. Decision Tree mendapatkan peningkatan lebih besar dibandingkan Random Forest, menunjukkan bahwa tuning berdampak lebih baik pada model ini. namun, kedua model sudah memiliki performa tinggi sebelum tuning (di atas 99.5%), sehingga tuning hanya memberikan peningkatan kecil."
   ]
  },
  {
   "cell_type": "code",
   "execution_count": null,
   "metadata": {},
   "outputs": [
    {
     "data": {
      "image/png": "[encoded data removed]",
      "text/plain": [
       "<Figure size 800x600 with 1 Axes>"
      ]
     },
     "metadata": {},
     "output_type": "display_data"
    }
   ],
   "source": [
    "train_sizes, train_scores, test_scores = learning_curve(\n",
    "    dt, X_train, y_train, cv=5, scoring=\"accuracy\", train_sizes=np.linspace(0.1, 1.0, 10)\n",
    ")\n",
    "\n",
    "train_mean = np.mean(train_scores, axis=1)\n",
    "test_mean = np.mean(test_scores, axis=1)\n",
    "\n",
    "plt.figure(figsize=(8,6))\n",
    "plt.plot(train_sizes, train_mean, label=\"Training Score\", color=\"blue\")\n",
    "plt.plot(train_sizes, test_mean, label=\"Validation Score\", color=\"red\")\n",
    "plt.xlabel(\"Training Set Size\")\n",
    "plt.ylabel(\"Accuracy\")\n",
    "plt.title(\"Learning Curve (Decision Tree)\")\n",
    "plt.legend()\n",
    "plt.show()"
   ]
  },
  {
   "cell_type": "markdown",
   "metadata": {},
   "source": [
    "dri grafik learning curve ini, dapat dilihat bahwa akurasi training (garis biru) sangat tinggi mendekati 1.0 (100%), sedangkan akurasi validasi (garis merah) awalnya rendah tetapi meningkat seiring bertambahnya data training. Pada akhirnya, akurasi validasi mendekati akurasi training, yang menunjukkan model semakin baik dengan lebih banyak data.\n",
    "\n",
    "Namun, ada indikasi bahwa model mungkin mengalami overfitting ringan, terutama karena akurasi training tetap hampir sempurna sejak awal, yang merupakan ciri khas Decision Tree."
   ]
  },
  {
   "cell_type": "markdown",
   "metadata": {},
   "source": [
    "**Rekomendasi Tindakan Lanjutan**\n",
    "\n",
    "- mencoba Model klasifikasi lain untuk perbandingan lebih mendalam\n",
    "- mengurangi kompleksitas model, misalnya dengan mengurangi kedalaman pohon dalam Random Forest (max_depth) atau mengurangi jumlah pohon (n_estimators).\n",
    "- Memeriksa kembali preprocessing data, teknik validasi, serta mempertimbangkan regularisasi atau pengurangan kompleksitas model agar dapat menguji generalisasi model dengan lebih baik.\n",
    "- melakukan regularisasi dengan pruning, serta menambah jumlah data pelatihan agar model dapat belajar lebih baik tanpa terlalu bergantung pada pola spesifik dalam data latih."
   ]
  }
 ],
 "metadata": {
  "colab": {
   "provenance": [
    {
     "file_id": "1dygqHl-RYE0PmGXP74G__HNnnpjzoOT4",
     "timestamp": 1742793501565
    },
    {
     "file_id": "1d7-aiqmhHzOhHJtdj5TaBJnyf1pIN-rs",
     "timestamp": 1729232680021
    }
   ]
  },
  "kernelspec": {
   "display_name": "Python 3",
   "name": "python3"
  },
  "language_info": {
   "codemirror_mode": {
    "name": "ipython",
    "version": 3
   },
   "file_extension": ".py",
   "mimetype": "text/x-python",
   "name": "python",
   "nbconvert_exporter": "python",
   "pygments_lexer": "ipython3",
   "version": "3.12.6"
  }
 },
 "nbformat": 4,
 "nbformat_minor": 0
}
